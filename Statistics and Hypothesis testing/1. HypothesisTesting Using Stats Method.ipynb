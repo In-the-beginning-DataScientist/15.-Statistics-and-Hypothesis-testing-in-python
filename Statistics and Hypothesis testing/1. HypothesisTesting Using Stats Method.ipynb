{
 "cells": [
  {
   "cell_type": "code",
   "execution_count": 13,
   "metadata": {},
   "outputs": [],
   "source": [
    "import pandas as pd\n",
    "import numpy as np"
   ]
  },
  {
   "cell_type": "code",
   "execution_count": 14,
   "metadata": {},
   "outputs": [],
   "source": [
    "spendDataDF = pd.read_csv('50_Startups.csv')"
   ]
  },
  {
   "cell_type": "code",
   "execution_count": 15,
   "metadata": {},
   "outputs": [],
   "source": [
    "# spendDataDF"
   ]
  },
  {
   "cell_type": "code",
   "execution_count": 16,
   "metadata": {},
   "outputs": [
    {
     "name": "stdout",
     "output_type": "stream",
     "text": [
      "<class 'pandas.core.frame.DataFrame'>\n",
      "RangeIndex: 50 entries, 0 to 49\n",
      "Data columns (total 5 columns):\n",
      " #   Column           Non-Null Count  Dtype  \n",
      "---  ------           --------------  -----  \n",
      " 0   R&D Spend        50 non-null     float64\n",
      " 1   Administration   50 non-null     float64\n",
      " 2   Marketing Spend  50 non-null     float64\n",
      " 3   State            50 non-null     object \n",
      " 4   Profit           50 non-null     float64\n",
      "dtypes: float64(4), object(1)\n",
      "memory usage: 2.1+ KB\n"
     ]
    }
   ],
   "source": [
    "spendDataDF.info()"
   ]
  },
  {
   "cell_type": "code",
   "execution_count": 17,
   "metadata": {},
   "outputs": [],
   "source": [
    "#\n",
    "# Significance Level ---> Define the tolerance of error in your Statistical Modelling\n",
    "# "
   ]
  },
  {
   "cell_type": "markdown",
   "metadata": {},
   "source": [
    "# Correlation Testing"
   ]
  },
  {
   "cell_type": "code",
   "execution_count": 18,
   "metadata": {},
   "outputs": [],
   "source": [
    "#Questions:\n",
    "# Feature Selection:\n",
    "#===============================================\n",
    "#1. Is R&D and Profit linearly correlated?   --------- Yes (Preserve R&D) ----- No (Discard R&D)\n",
    "#2. Is Adm and profit linearly correlated?   --------- Yes (Preserve Adm) ----- No (Discard Adm)\n",
    "#3. Is MarkS and Profit linearly correlated? --------- Yes (Preserve MarkS) --- No (Discard MarkS)\n",
    "\n",
    "# Testing for Multicollinearity\n",
    "# ================================================\n",
    "# 4. Is R&D and Adm linearly Correlated?     --------- Yes (Eliminate One Of Them) --- No (Preserve Both)\n",
    "# 5. Is R&D and Mark linearly COrrelated?    --------- Yes (Eliminate One Of Them) --- No (Preserve Both)\n",
    "# 6. Is Adm and Mark linearly Correlated?    --------- Yes (Eliminate One Of Them) --- No (Preserve Both)"
   ]
  },
  {
   "cell_type": "code",
   "execution_count": 19,
   "metadata": {},
   "outputs": [],
   "source": [
    "# Now by using Co-rrelation test methods, the above 6 questions will undergo hypothesis testing.\n",
    "# 1. Pearson correlation test\n",
    "# 2. Spearman Rank test\n",
    "# 3. Kendall's test \n",
    "# Any one test formulae is used to do correlation test with hypothesis testing to say Yes or No.\n",
    "# the above all methods of tests (formulae) expects all the data should be in the form of hypothesis jargons."
   ]
  },
  {
   "cell_type": "code",
   "execution_count": 20,
   "metadata": {},
   "outputs": [],
   "source": [
    "#Create hypothesis for each Question\n",
    "# 1. Is R&D and Profit linearly correlated? need to creat two things, 1. null 2. Alternate\n",
    "#\n",
    "#   1. Null Hypothesis : R&D and Profit does NOT have Linear Relationship. \n",
    "        # (its a statement but not the question)\n",
    "#\n",
    "#   2. Alternate Hypothesis: R&D and Profit does have Linear Relationship.\n",
    "#\n",
    "#   SL = 0.05\n",
    "#"
   ]
  },
  {
   "cell_type": "code",
   "execution_count": 21,
   "metadata": {},
   "outputs": [],
   "source": [
    "# Here two types of SL values are there in statistics\n",
    "# 1. Sl is decided by Data Scientist a the time of Elicitation (this is based on the checks of data) (this is functional formula)\n",
    "# 2. Another SL is calculated from statistical testing which is called P-Value (this is mathematics formula)\n",
    "#    (P-Value) This is the heart of statistics testing vlues."
   ]
  },
  {
   "cell_type": "code",
   "execution_count": 22,
   "metadata": {},
   "outputs": [],
   "source": [
    "# Execute My Hypothesis testing using Pearson's Correlation testing.\n",
    "# Our interest is to check p-value calculated from the Pearson's Correlation coefficient\n",
    "# \n",
    "#.  p-value ---> is nothing but Calc SL."
   ]
  },
  {
   "cell_type": "code",
   "execution_count": 23,
   "metadata": {},
   "outputs": [],
   "source": [
    "# pearsonr will output many details/ values but we interested in P-Value only, So assign for P value only"
   ]
  },
  {
   "cell_type": "code",
   "execution_count": 42,
   "metadata": {},
   "outputs": [
    {
     "name": "stdout",
     "output_type": "stream",
     "text": [
      "Alternate Hypothesis Passed:R&D and Profit does have Linear Relationship and P-Value is 3.5003222436905997e-32.\n"
     ]
    }
   ],
   "source": [
    "from scipy.stats import pearsonr\n",
    "corr,pvalue = pearsonr(spendDataDF['R&D Spend'],spendDataDF['Profit'])\n",
    "\n",
    "if pvalue <= 0.05:\n",
    "    \n",
    "    print(\"Alternate Hypothesis Passed:R&D and Profit does have Linear Relationship and P-Value is {}.\".format(pvalue))\n",
    "else:\n",
    "    print(\"Null Hypothesis Passed: R&D and Profit does NOT have Linear Relationship.\")"
   ]
  },
  {
   "cell_type": "code",
   "execution_count": 35,
   "metadata": {},
   "outputs": [
    {
     "data": {
      "text/plain": [
       "<matplotlib.collections.PathCollection at 0x2813ad9d6a0>"
      ]
     },
     "execution_count": 35,
     "metadata": {},
     "output_type": "execute_result"
    },
    {
     "data": {
      "image/png": "[encoded data removed]",
      "text/plain": [
       "<Figure size 432x288 with 1 Axes>"
      ]
     },
     "metadata": {
      "needs_background": "light"
     },
     "output_type": "display_data"
    }
   ],
   "source": [
    "import matplotlib.pyplot as plt\n",
    "%matplotlib inline\n",
    "plt.scatter(spendDataDF['R&D Spend'],spendDataDF['Profit'])"
   ]
  },
  {
   "cell_type": "code",
   "execution_count": 36,
   "metadata": {},
   "outputs": [],
   "source": [
    "#Test For MultiCollinearity\n",
    "\n",
    "#Step1: Create Question\n",
    "\n",
    "# Is R&D and Adm linearly Correlated? \n",
    "\n",
    "#Step2: Create Hypothesis out of the question?\n",
    "\n",
    "#Create hypothesis for each Question\n",
    "#  \n",
    "#\n",
    "#   Null Hypothesis : R&D and Admin is Not Linearly corellated ---- PVALUE > 0.05\n",
    "#\n",
    "#   Alternate Hypothesis: R&D and Admin is Linearly corellated ---- PVALUE <= 0.05\n",
    "#\n",
    "\n",
    "#Step3: Define SL\n",
    "\n",
    "#   SL = 0.05\n",
    "#\n",
    "# STep4: Execute Hypothesis. Calc p-value"
   ]
  },
  {
   "cell_type": "code",
   "execution_count": 37,
   "metadata": {},
   "outputs": [
    {
     "name": "stdout",
     "output_type": "stream",
     "text": [
      "Null Hypothesis Passed: R&D and Admin is Not Linearly corellated\n"
     ]
    }
   ],
   "source": [
    "from scipy.stats import pearsonr\n",
    "#from scipy.stats import spearmanr\n",
    "#from scipy.stats import kendalltau\n",
    "# https://docs.scipy.org/doc/scipy/reference/generated/scipy.stats.pearsonr.html (For mathematical Formula and other help)\n",
    "corr,pvalue = pearsonr(spendDataDF['R&D Spend'],spendDataDF['Administration'])\n",
    "\n",
    "if pvalue <= 0.05:\n",
    "    print(\"Alternate Hypothesis Passed: R&D and Admin is Linearly corellated \")\n",
    "else:\n",
    "    print(\"Null Hypothesis Passed: R&D and Admin is Not Linearly corellated\")"
   ]
  },
  {
   "cell_type": "code",
   "execution_count": null,
   "metadata": {},
   "outputs": [],
   "source": [
    "#No Multicollinearity.. Therefore preserve both !!!"
   ]
  },
  {
   "cell_type": "markdown",
   "metadata": {},
   "source": [
    "# Normality Testing"
   ]
  },
  {
   "cell_type": "code",
   "execution_count": 43,
   "metadata": {},
   "outputs": [
    {
     "name": "stderr",
     "output_type": "stream",
     "text": [
      "C:\\Users\\davea\\anaconda3\\lib\\site-packages\\seaborn\\distributions.py:2557: FutureWarning: `distplot` is a deprecated function and will be removed in a future version. Please adapt your code to use either `displot` (a figure-level function with similar flexibility) or `histplot` (an axes-level function for histograms).\n",
      "  warnings.warn(msg, FutureWarning)\n"
     ]
    },
    {
     "data": {
      "text/plain": [
       "<AxesSubplot:xlabel='R&D Spend', ylabel='Density'>"
      ]
     },
     "execution_count": 43,
     "metadata": {},
     "output_type": "execute_result"
    },
    {
     "data": {
      "image/png": "[encoded data removed]",
      "text/plain": [
       "<Figure size 432x288 with 1 Axes>"
      ]
     },
     "metadata": {
      "needs_background": "light"
     },
     "output_type": "display_data"
    }
   ],
   "source": [
    "import seaborn as sns\n",
    "sns.distplot(spendDataDF['R&D Spend'])"
   ]
  },
  {
   "cell_type": "code",
   "execution_count": null,
   "metadata": {},
   "outputs": [],
   "source": [
    "# Question : Is R&D normally Distributed ?\n",
    "\n",
    "# Hypothesis:\n",
    "#\n",
    "#     Null Hypothesis: RND is NOT normally distributed  --- PVALUE <= 0.05\n",
    "#     Alternate Hypothesis: R&D is normally distributed --- PVALUE > 0.05\n",
    "#\n",
    "# SL = 0.05\n",
    "#\n",
    "# CALC P VALUE USING SHAPIRO TEST"
   ]
  },
  {
   "cell_type": "code",
   "execution_count": 45,
   "metadata": {},
   "outputs": [
    {
     "name": "stdout",
     "output_type": "stream",
     "text": [
      "Alternate Hypothesis Passed: R&D is normally distributed \n"
     ]
    }
   ],
   "source": [
    "from scipy.stats import shapiro\n",
    "#from scipy.stats import anderson\n",
    "#from scipy.stats import normaltest\n",
    "\n",
    "corr,pvalue = shapiro(spendDataDF['R&D Spend'])\n",
    "\n",
    "if pvalue > 0.05:\n",
    "    print(\"Alternate Hypothesis Passed: R&D is normally distributed \")\n",
    "else:\n",
    "    print(\"Null Hypothesis Passed: RND is NOT normally distributed\")"
   ]
  },
  {
   "cell_type": "code",
   "execution_count": null,
   "metadata": {},
   "outputs": [],
   "source": [
    "# only normality is differnt from all other, all other tests are ssame\n",
    "# normality :  null -- p<=0.05\n",
    "#           :  Alt -- p>0.05"
   ]
  },
  {
   "cell_type": "code",
   "execution_count": null,
   "metadata": {},
   "outputs": [],
   "source": [
    "# all other tests \n",
    "#           :  null -- p>0.05\n",
    "#           :  Alt -- p<=0.05"
   ]
  },
  {
   "cell_type": "markdown",
   "metadata": {},
   "source": [
    "# Parametric test"
   ]
  },
  {
   "cell_type": "code",
   "execution_count": null,
   "metadata": {},
   "outputs": [],
   "source": [
    "# Applicable for Normally distributed Column"
   ]
  },
  {
   "cell_type": "code",
   "execution_count": 50,
   "metadata": {},
   "outputs": [],
   "source": [
    "# Question --> Is R&D and Marketing statistically similar?\n",
    "\n",
    "# Hypothesis:\n",
    "\n",
    "#    Null Hypothesis ---> R&D and Marketing are NOT statistically similar --- pvalue > 0.05\n",
    "#    Alternate Hypothesis --> R&D and Marketing are statistically similar --- pvalue <= 0.05\n",
    "\n",
    "# SL = 0.05\n",
    "\n",
    "# Execute"
   ]
  },
  {
   "cell_type": "code",
   "execution_count": 46,
   "metadata": {},
   "outputs": [
    {
     "name": "stdout",
     "output_type": "stream",
     "text": [
      "Alternate Hypothesis Passed: R&D and Marketing are statistically similar \n"
     ]
    }
   ],
   "source": [
    "from scipy.stats import ttest_ind # Student t Test        # ttest_industry\n",
    "#from scipy.stats import ttest_rel #Paired Student ttest  # ttest_relation\n",
    "#from scipy.stats import f_oneway # ANOVA\n",
    "corr,pvalue = ttest_ind(spendDataDF['R&D Spend'],spendDataDF['Marketing Spend'])\n",
    "\n",
    "if pvalue <= 0.05:\n",
    "    print(\"Alternate Hypothesis Passed: R&D and Marketing are statistically similar \")\n",
    "else:\n",
    "    print(\"Null Hypothesis Passed: R&D and Marketing are NOT statistically similar\")"
   ]
  },
  {
   "cell_type": "code",
   "execution_count": null,
   "metadata": {},
   "outputs": [],
   "source": [
    "# Theabove test is not to trust\n",
    "# The profit column in the dataset if label, which is continuous variable, so it is a regression problem,\n",
    "# that is the reason Non parametric and parametric test is not required for this problem.\n",
    "# For regression problem, multicollinearity test is enough.\n",
    "# though we have done the above , not to be considered. \n",
    "# done only for understanding the code and concept.\n",
    "# still we can perform the following for cross check with correlation values with each other."
   ]
  },
  {
   "cell_type": "code",
   "execution_count": 48,
   "metadata": {},
   "outputs": [
    {
     "data": {
      "text/html": [
       "<div>\n",
       "<style scoped>\n",
       "    .dataframe tbody tr th:only-of-type {\n",
       "        vertical-align: middle;\n",
       "    }\n",
       "\n",
       "    .dataframe tbody tr th {\n",
       "        vertical-align: top;\n",
       "    }\n",
       "\n",
       "    .dataframe thead th {\n",
       "        text-align: right;\n",
       "    }\n",
       "</style>\n",
       "<table border=\"1\" class=\"dataframe\">\n",
       "  <thead>\n",
       "    <tr style=\"text-align: right;\">\n",
       "      <th></th>\n",
       "      <th>R&amp;D Spend</th>\n",
       "      <th>Administration</th>\n",
       "      <th>Marketing Spend</th>\n",
       "      <th>Profit</th>\n",
       "    </tr>\n",
       "  </thead>\n",
       "  <tbody>\n",
       "    <tr>\n",
       "      <th>R&amp;D Spend</th>\n",
       "      <td>1.000000</td>\n",
       "      <td>0.241955</td>\n",
       "      <td>0.724248</td>\n",
       "      <td>0.972900</td>\n",
       "    </tr>\n",
       "    <tr>\n",
       "      <th>Administration</th>\n",
       "      <td>0.241955</td>\n",
       "      <td>1.000000</td>\n",
       "      <td>-0.032154</td>\n",
       "      <td>0.200717</td>\n",
       "    </tr>\n",
       "    <tr>\n",
       "      <th>Marketing Spend</th>\n",
       "      <td>0.724248</td>\n",
       "      <td>-0.032154</td>\n",
       "      <td>1.000000</td>\n",
       "      <td>0.747766</td>\n",
       "    </tr>\n",
       "    <tr>\n",
       "      <th>Profit</th>\n",
       "      <td>0.972900</td>\n",
       "      <td>0.200717</td>\n",
       "      <td>0.747766</td>\n",
       "      <td>1.000000</td>\n",
       "    </tr>\n",
       "  </tbody>\n",
       "</table>\n",
       "</div>"
      ],
      "text/plain": [
       "                 R&D Spend  Administration  Marketing Spend    Profit\n",
       "R&D Spend         1.000000        0.241955         0.724248  0.972900\n",
       "Administration    0.241955        1.000000        -0.032154  0.200717\n",
       "Marketing Spend   0.724248       -0.032154         1.000000  0.747766\n",
       "Profit            0.972900        0.200717         0.747766  1.000000"
      ]
     },
     "execution_count": 48,
     "metadata": {},
     "output_type": "execute_result"
    }
   ],
   "source": [
    "spendDataDF.corr()"
   ]
  },
  {
   "cell_type": "code",
   "execution_count": null,
   "metadata": {},
   "outputs": [],
   "source": [
    "# Profit and R&D Spend is having good correlation and\n",
    "# Profit and Admin is nott so great\n",
    "# correlation coefficient values can be seen through the plot also."
   ]
  },
  {
   "cell_type": "markdown",
   "metadata": {},
   "source": [
    "# Concept to understand about classifiaction problem and tests required for this"
   ]
  },
  {
   "cell_type": "code",
   "execution_count": 49,
   "metadata": {},
   "outputs": [],
   "source": [
    "# Question\n",
    "# Assume f1,f2,f3,f4 are the features and l1 is the label ----> All are Classification variables and \n",
    "# Assume f1 is normally distributed and f2,f3,f4 is not normally distributed.\n",
    "# Then how to approach for testing whether Parametric or Nonparametric\n",
    "\n",
    "# Strategy1: ( according to the statistical method)\n",
    "# 1. preserve f1 as it is.\n",
    "# 2. Perform NonParametric Test on f2,f3,f4\n",
    "\n",
    "# Strategy2: (PERSONAL RECOMMENDATION __ AS PER MY EXPERIENCE THIS HELPS TO GET GOOD MODEL !!!!)\n",
    "# 1. preserve f1 as it is.\n",
    "# 2. Try to make f2,f3,f4 Normally Distributed using OutlierDetectionandRemoval or Log transformation\n",
    "# 3. then Perform Parametric test"
   ]
  },
  {
   "cell_type": "code",
   "execution_count": null,
   "metadata": {},
   "outputs": [],
   "source": [
    "# Based on the above strategies, strategy 2 is better option for very good model."
   ]
  },
  {
   "cell_type": "markdown",
   "metadata": {},
   "source": [
    "# Non Parametric Testing"
   ]
  },
  {
   "cell_type": "code",
   "execution_count": null,
   "metadata": {},
   "outputs": [],
   "source": [
    "# The above data is normally distributed and ths particular test is not required.\n",
    "# But  only to understand the concepts of Nonparametric testing, we are doing the test here.\n",
    "# Applicable for Skewed Data"
   ]
  },
  {
   "cell_type": "code",
   "execution_count": null,
   "metadata": {},
   "outputs": [],
   "source": [
    "# Question --> Is R&D and Marketing statistically similar?\n",
    "\n",
    "# Hypothesis:\n",
    "\n",
    "#    Null Hypothesis ---> R&D and Marketing are NOT statistically similar --- pvalue > 0.05\n",
    "#    Alternate Hypothesis --> R&D and Marketing are statistically similar --- pvalue <= 0.05\n",
    "#\n",
    "# SL = 0.05\n",
    "#\n",
    "# Execute"
   ]
  },
  {
   "cell_type": "code",
   "execution_count": 51,
   "metadata": {},
   "outputs": [
    {
     "name": "stdout",
     "output_type": "stream",
     "text": [
      "Alternate Hypothesis Passed: R&D and Marketing are statistically similar \n"
     ]
    }
   ],
   "source": [
    "from scipy.stats import wilcoxon \n",
    "#from scipy.stats import mannwhitneyu\n",
    "#from scipy.stats import kruskal\n",
    "#from scipy.stats import friedmanchisquare\n",
    "\n",
    "corr,pvalue = wilcoxon(spendDataDF['R&D Spend'],spendDataDF['Marketing Spend'])\n",
    "\n",
    "if pvalue <= 0.05:\n",
    "    print(\"Alternate Hypothesis Passed: R&D and Marketing are statistically similar \")\n",
    "else:\n",
    "    print(\"Null Hypothesis Passed: R&D and Marketing are NOT statistically similar\")"
   ]
  },
  {
   "cell_type": "markdown",
   "metadata": {},
   "source": [
    "# Chi-square Test"
   ]
  },
  {
   "cell_type": "code",
   "execution_count": null,
   "metadata": {},
   "outputs": [],
   "source": [
    "# Goal : Chi-square test defines whether the two variables (One Feature and One Label)\n",
    "# have any kind of relationship or not.\n",
    "#\n",
    "# Chi-square can be performed in any of the below scenarios:\n",
    "\n",
    "# 1. Feature (Categorical) and Label (Numerical)\n",
    "# 2. Feature (Numerical) and Label (Categorical)\n",
    "# 3. Feature (Categorical) and Label (Categorical)\n",
    "# the above combinaions only works well"
   ]
  },
  {
   "cell_type": "code",
   "execution_count": null,
   "metadata": {},
   "outputs": [],
   "source": [
    "# State (Categorical ) and Profit (Numerical)\n",
    "# Question: Do \"State\" and \"Profit\" have any relationship ?\n",
    "#\n",
    "#. Hypothesis\n",
    "#.     Null Hyp ---> State and Profit does NOT have a Relationship\n",
    "#.     Alternate Hyp --> State and Profit does have a Relationship\n",
    "#\n",
    "# SL = 0.05\n",
    "# Generally this test will give either uniform relationship,\n",
    "# willcox elationship or poison relationship\n",
    "# if there is no relationship, then we will eliminate the feature variable (here it is state),\n",
    "# if we have any reationship we will manintain then.\n",
    "\n",
    "# execute"
   ]
  },
  {
   "cell_type": "code",
   "execution_count": 53,
   "metadata": {},
   "outputs": [
    {
     "data": {
      "text/html": [
       "<div>\n",
       "<style scoped>\n",
       "    .dataframe tbody tr th:only-of-type {\n",
       "        vertical-align: middle;\n",
       "    }\n",
       "\n",
       "    .dataframe tbody tr th {\n",
       "        vertical-align: top;\n",
       "    }\n",
       "\n",
       "    .dataframe thead th {\n",
       "        text-align: right;\n",
       "    }\n",
       "</style>\n",
       "<table border=\"1\" class=\"dataframe\">\n",
       "  <thead>\n",
       "    <tr style=\"text-align: right;\">\n",
       "      <th>Profit</th>\n",
       "      <th>14681.40</th>\n",
       "      <th>35673.41</th>\n",
       "      <th>42559.73</th>\n",
       "      <th>49490.75</th>\n",
       "      <th>64926.08</th>\n",
       "      <th>65200.33</th>\n",
       "      <th>69758.98</th>\n",
       "      <th>71498.49</th>\n",
       "      <th>77798.83</th>\n",
       "      <th>78239.91</th>\n",
       "      <th>...</th>\n",
       "      <th>149759.96</th>\n",
       "      <th>152211.77</th>\n",
       "      <th>155752.60</th>\n",
       "      <th>156122.51</th>\n",
       "      <th>156991.12</th>\n",
       "      <th>166187.94</th>\n",
       "      <th>182901.99</th>\n",
       "      <th>191050.39</th>\n",
       "      <th>191792.06</th>\n",
       "      <th>192261.83</th>\n",
       "    </tr>\n",
       "    <tr>\n",
       "      <th>State</th>\n",
       "      <th></th>\n",
       "      <th></th>\n",
       "      <th></th>\n",
       "      <th></th>\n",
       "      <th></th>\n",
       "      <th></th>\n",
       "      <th></th>\n",
       "      <th></th>\n",
       "      <th></th>\n",
       "      <th></th>\n",
       "      <th></th>\n",
       "      <th></th>\n",
       "      <th></th>\n",
       "      <th></th>\n",
       "      <th></th>\n",
       "      <th></th>\n",
       "      <th></th>\n",
       "      <th></th>\n",
       "      <th></th>\n",
       "      <th></th>\n",
       "      <th></th>\n",
       "    </tr>\n",
       "  </thead>\n",
       "  <tbody>\n",
       "    <tr>\n",
       "      <th>California</th>\n",
       "      <td>1</td>\n",
       "      <td>0</td>\n",
       "      <td>1</td>\n",
       "      <td>0</td>\n",
       "      <td>0</td>\n",
       "      <td>1</td>\n",
       "      <td>0</td>\n",
       "      <td>1</td>\n",
       "      <td>0</td>\n",
       "      <td>1</td>\n",
       "      <td>...</td>\n",
       "      <td>1</td>\n",
       "      <td>0</td>\n",
       "      <td>0</td>\n",
       "      <td>1</td>\n",
       "      <td>0</td>\n",
       "      <td>0</td>\n",
       "      <td>0</td>\n",
       "      <td>0</td>\n",
       "      <td>1</td>\n",
       "      <td>0</td>\n",
       "    </tr>\n",
       "    <tr>\n",
       "      <th>Florida</th>\n",
       "      <td>0</td>\n",
       "      <td>0</td>\n",
       "      <td>0</td>\n",
       "      <td>1</td>\n",
       "      <td>0</td>\n",
       "      <td>0</td>\n",
       "      <td>0</td>\n",
       "      <td>0</td>\n",
       "      <td>1</td>\n",
       "      <td>0</td>\n",
       "      <td>...</td>\n",
       "      <td>0</td>\n",
       "      <td>0</td>\n",
       "      <td>1</td>\n",
       "      <td>0</td>\n",
       "      <td>0</td>\n",
       "      <td>1</td>\n",
       "      <td>0</td>\n",
       "      <td>1</td>\n",
       "      <td>0</td>\n",
       "      <td>0</td>\n",
       "    </tr>\n",
       "    <tr>\n",
       "      <th>New York</th>\n",
       "      <td>0</td>\n",
       "      <td>1</td>\n",
       "      <td>0</td>\n",
       "      <td>0</td>\n",
       "      <td>1</td>\n",
       "      <td>0</td>\n",
       "      <td>1</td>\n",
       "      <td>0</td>\n",
       "      <td>0</td>\n",
       "      <td>0</td>\n",
       "      <td>...</td>\n",
       "      <td>0</td>\n",
       "      <td>1</td>\n",
       "      <td>0</td>\n",
       "      <td>0</td>\n",
       "      <td>1</td>\n",
       "      <td>0</td>\n",
       "      <td>1</td>\n",
       "      <td>0</td>\n",
       "      <td>0</td>\n",
       "      <td>1</td>\n",
       "    </tr>\n",
       "  </tbody>\n",
       "</table>\n",
       "<p>3 rows × 50 columns</p>\n",
       "</div>"
      ],
      "text/plain": [
       "Profit      14681.40   35673.41   42559.73   49490.75   64926.08   65200.33   \\\n",
       "State                                                                          \n",
       "California          1          0          1          0          0          1   \n",
       "Florida             0          0          0          1          0          0   \n",
       "New York            0          1          0          0          1          0   \n",
       "\n",
       "Profit      69758.98   71498.49   77798.83   78239.91   ...  149759.96  \\\n",
       "State                                                   ...              \n",
       "California          0          1          0          1  ...          1   \n",
       "Florida             0          0          1          0  ...          0   \n",
       "New York            1          0          0          0  ...          0   \n",
       "\n",
       "Profit      152211.77  155752.60  156122.51  156991.12  166187.94  182901.99  \\\n",
       "State                                                                          \n",
       "California          0          0          1          0          0          0   \n",
       "Florida             0          1          0          0          1          0   \n",
       "New York            1          0          0          1          0          1   \n",
       "\n",
       "Profit      191050.39  191792.06  192261.83  \n",
       "State                                        \n",
       "California          0          1          0  \n",
       "Florida             1          0          0  \n",
       "New York            0          0          1  \n",
       "\n",
       "[3 rows x 50 columns]"
      ]
     },
     "execution_count": 53,
     "metadata": {},
     "output_type": "execute_result"
    }
   ],
   "source": [
    "#Chisquare expects your data to be in the form of contigency table\n",
    "# Its like a one hot encoding transformation table with row values in the column and column at row.\n",
    "ct = pd.crosstab(spendDataDF['State'],spendDataDF['Profit'])\n",
    "ct"
   ]
  },
  {
   "cell_type": "code",
   "execution_count": null,
   "metadata": {},
   "outputs": [],
   "source": [
    "# this contingency table will become input to the chi-square test function.\n",
    "# this function will give 4 values like corr,pvalue,dof,expectedR\n",
    "# but we are interested in pvalue only"
   ]
  },
  {
   "cell_type": "code",
   "execution_count": 54,
   "metadata": {},
   "outputs": [
    {
     "name": "stdout",
     "output_type": "stream",
     "text": [
      "Null Hypothesis Passed: State and Profit does NOT have a Relationship\n"
     ]
    }
   ],
   "source": [
    "from scipy.stats import chi2_contingency\n",
    "\n",
    "corr,pvalue,dof,expectedR = chi2_contingency(ct)\n",
    "\n",
    "if pvalue <= 0.05:\n",
    "    print(\"Alternate Hypothesis Passed: State and Profit does have a Relationship \")\n",
    "else:\n",
    "    print(\"Null Hypothesis Passed: State and Profit does NOT have a Relationship\")"
   ]
  },
  {
   "cell_type": "code",
   "execution_count": null,
   "metadata": {},
   "outputs": [],
   "source": [
    "# from the above test, understood that state is not having relationship with profit, so can be eliminated"
   ]
  }
 ],
 "metadata": {
  "kernelspec": {
   "display_name": "Python 3",
   "language": "python",
   "name": "python3"
  },
  "language_info": {
   "codemirror_mode": {
    "name": "ipython",
    "version": 3
   },
   "file_extension": ".py",
   "mimetype": "text/x-python",
   "name": "python",
   "nbconvert_exporter": "python",
   "pygments_lexer": "ipython3",
   "version": "3.8.8"
  }
 },
 "nbformat": 4,
 "nbformat_minor": 4
}
